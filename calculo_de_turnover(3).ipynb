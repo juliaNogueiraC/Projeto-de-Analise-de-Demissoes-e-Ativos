{
  "nbformat": 4,
  "nbformat_minor": 0,
  "metadata": {
    "colab": {
      "provenance": [],
      "authorship_tag": "ABX9TyMDU/QkGdaCM3+utpYunZY1",
      "include_colab_link": true
    },
    "kernelspec": {
      "name": "python3",
      "display_name": "Python 3"
    },
    "language_info": {
      "name": "python"
    }
  },
  "cells": [
    {
      "cell_type": "markdown",
      "metadata": {
        "id": "view-in-github",
        "colab_type": "text"
      },
      "source": [
        "<a href=\"https://colab.research.google.com/github/juliaNogueiraC/Projeto-de-Analise-de-Demissoes-e-Ativos/blob/main/calculo_de_turnover(3).ipynb\" target=\"_parent\"><img src=\"https://colab.research.google.com/assets/colab-badge.svg\" alt=\"Open In Colab\"/></a>"
      ]
    },
    {
      "cell_type": "markdown",
      "source": [
        "#FUNCIONÁRIOS ATIVOS E INATIVOS"
      ],
      "metadata": {
        "id": "gourLVjXEGSD"
      }
    },
    {
      "cell_type": "code",
      "source": [
        "import pandas as pd\n",
        "from tabulate import tabulate\n",
        "\n",
        "# Carregar as duas abas da planilha\n",
        "df_ativos = pd.read_excel('/content/planilha.xlsx', sheet_name='Ativos', parse_dates=['Data Admis.'])\n",
        "df_demitidos = pd.read_excel('/content/planilha.xlsx', sheet_name='Desligados', parse_dates=['Data Admis.', 'Dt. Demissao'])\n",
        "\n",
        "# Converter as colunas de datas para o formato correto (dia/mês/ano)\n",
        "df_ativos['Data Admis.'] = pd.to_datetime(df_ativos['Data Admis.'], dayfirst=True)\n",
        "df_demitidos['Data Admis.'] = pd.to_datetime(df_demitidos['Data Admis.'], dayfirst=True)\n",
        "df_demitidos['Dt. Demissao'] = pd.to_datetime(df_demitidos['Dt. Demissao'], dayfirst=True)\n",
        "\n",
        "# Definir o período de análise\n",
        "meses = ['janeiro', 'fevereiro', 'março', 'abril', 'maio', 'junho']\n",
        "meses_num = [1, 2, 3, 4, 5, 6]\n",
        "\n",
        "# Filtrar demissões por mês em 2024\n",
        "demitidos_2024 = df_demitidos[df_demitidos['Dt. Demissao'].dt.year == 2024]\n",
        "demitidos_por_mes = demitidos_2024.groupby(demitidos_2024['Dt. Demissao'].dt.month).size().reindex(meses_num, fill_value=0).to_dict()\n",
        "\n",
        "# Filtrar ativos por mês em 2024\n",
        "ativos_por_mes = {}\n",
        "for mes_num, mes in zip(meses_num, meses):\n",
        "    # Funcionários ativos até o início do mês corrente\n",
        "    ativos_antes_mes = df_ativos[df_ativos['Data Admis.'] <= pd.Timestamp(f'2024-{mes_num:02d}-01')]\n",
        "    demitidos_antes_mes = df_demitidos[(df_demitidos['Data Admis.'] <= pd.Timestamp(f'2024-{mes_num:02d}-01')) &\n",
        "                                       (df_demitidos['Dt. Demissao'] > pd.Timestamp(f'2024-{mes_num:02d}-01'))]\n",
        "    ativos_por_mes[mes] = len(ativos_antes_mes) + len(demitidos_antes_mes) - demitidos_por_mes[mes_num]\n",
        "\n",
        "# Preparar dados para exibição\n",
        "demissoes_data = [[mes.capitalize(), demitidos_por_mes[mes_num]] for mes_num, mes in zip(meses_num, meses)]\n",
        "ativos_data = [[mes.capitalize(), count] for mes, count in ativos_por_mes.items()]\n",
        "\n",
        "# Exibir os resultados de forma elegante\n",
        "print(\"Funcionários demitidos por mês em 2024:\")\n",
        "print(tabulate(demissoes_data, headers=['Mês', 'Quantidade de Demissões'], tablefmt='pretty'))\n",
        "\n",
        "print(\"\\nFuncionários ativos por mês em 2024:\")\n",
        "print(tabulate(ativos_data, headers=['Mês', 'Quantidade de Ativos'], tablefmt='pretty'))\n"
      ],
      "metadata": {
        "colab": {
          "base_uri": "https://localhost:8080/"
        },
        "id": "JH71SGzcx4u3",
        "outputId": "34a7cee5-6dfb-4cfd-bb92-4617dd990641"
      },
      "execution_count": null,
      "outputs": [
        {
          "output_type": "stream",
          "name": "stdout",
          "text": [
            "Funcionários demitidos por mês em 2024:\n",
            "+-----------+-------------------------+\n",
            "|    Mês    | Quantidade de Demissões |\n",
            "+-----------+-------------------------+\n",
            "|  Janeiro  |           93            |\n",
            "| Fevereiro |           65            |\n",
            "|   Março   |           90            |\n",
            "|   Abril   |           110           |\n",
            "|   Maio    |           120           |\n",
            "|   Junho   |           139           |\n",
            "+-----------+-------------------------+\n",
            "\n",
            "Funcionários ativos por mês em 2024:\n",
            "+-----------+----------------------+\n",
            "|    Mês    | Quantidade de Ativos |\n",
            "+-----------+----------------------+\n",
            "|  Janeiro  |         993          |\n",
            "| Fevereiro |         1094         |\n",
            "|   Março   |         1164         |\n",
            "|   Abril   |         1270         |\n",
            "|   Maio    |         1361         |\n",
            "|   Junho   |         1321         |\n",
            "+-----------+----------------------+\n"
          ]
        }
      ]
    },
    {
      "cell_type": "markdown",
      "source": [
        "#JANEIRO"
      ],
      "metadata": {
        "id": "BrvN8iuYEXN6"
      }
    },
    {
      "cell_type": "code",
      "source": [
        "import pandas as pd\n",
        "from tabulate import tabulate\n",
        "\n",
        "# Definir o caminho para a planilha de janeiro (ajuste conforme necessário)\n",
        "caminho_planilha_janeiro = '/content/DESLIGAMENTOS 01.24.xlsx'\n",
        "aba_janeiro = 'DESLIGUES JANEIRO 24'  # Nome da aba específica que contém os dados\n",
        "\n",
        "try:\n",
        "    # Carregar a planilha de demissões de janeiro e a aba específica\n",
        "    planilha_janeiro = pd.read_excel(caminho_planilha_janeiro, sheet_name=aba_janeiro)\n",
        "\n",
        "    # Verificar se a coluna 'TIPO DE DESLIGAMENTO' existe na planilha\n",
        "    if 'TIPO DE DESLIGAMENTO' not in planilha_janeiro.columns:\n",
        "        raise KeyError(\"'TIPO DE DESLIGAMENTO' não encontrado na aba de janeiro\")\n",
        "\n",
        "    # Tipos de desligamento\n",
        "    desligamentos_involuntarios = [\n",
        "        'TERMINO DE CONTRATO POR PRAZO DETERMINADO - 2ª EXP.',\n",
        "        'DISPENSA SEM JUSTA CAUSA',\n",
        "        'TERMINO DE CONTRATO POR PRAZO DETERMINADO - 1ª EXP.',\n",
        "        'TERMINO DE CONTRATO ANTECIPADO - EMPREGADOR',\n",
        "        'DISPENSA POR JUSTA CAUSA'\n",
        "    ]\n",
        "\n",
        "    desligamentos_voluntarios = [\n",
        "        'PEDIDO DE DESLIGAMENTO - SEM CUMPRIMENTO DE AVISO',\n",
        "        'TERMINO DE CONTRATO ANTECIPADO - A PEDIDO DO EMPREGADO',\n",
        "        'PEDIDO DE DESLIGAMENTO - COM CUMPRIMENTO DE AVISO'\n",
        "    ]\n",
        "\n",
        "    # Contar desligamentos involuntários e voluntários\n",
        "    contagem_involuntarios = planilha_janeiro[planilha_janeiro['TIPO DE DESLIGAMENTO'].isin(desligamentos_involuntarios)].shape[0]\n",
        "    contagem_voluntarios = planilha_janeiro[planilha_janeiro['TIPO DE DESLIGAMENTO'].isin(desligamentos_voluntarios)].shape[0]\n",
        "\n",
        "    # Preparar dados para exibição\n",
        "    desligamentos_data = [\n",
        "        ['Involuntárias', contagem_involuntarios],\n",
        "        ['Voluntárias', contagem_voluntarios]\n",
        "    ]\n",
        "\n",
        "    # Exibir os resultados de forma elegante\n",
        "    print(f\"Demissões em janeiro na aba '{aba_janeiro}':\")\n",
        "    print(tabulate(desligamentos_data, headers=['Tipo de Desligamento', 'Quantidade'], tablefmt='pretty'))\n",
        "\n",
        "except FileNotFoundError:\n",
        "    print(f\"Arquivo não encontrado: {caminho_planilha_janeiro}\")\n",
        "except KeyError as e:\n",
        "    print(f\"Erro: {e}\")\n"
      ],
      "metadata": {
        "colab": {
          "base_uri": "https://localhost:8080/"
        },
        "id": "jnHc0O-0yWJp",
        "outputId": "61009308-8fcb-48d4-fbb2-b44c9bb64c5a"
      },
      "execution_count": null,
      "outputs": [
        {
          "output_type": "stream",
          "name": "stdout",
          "text": [
            "Demissões em janeiro na aba 'DESLIGUES JANEIRO 24':\n",
            "+----------------------+------------+\n",
            "| Tipo de Desligamento | Quantidade |\n",
            "+----------------------+------------+\n",
            "|    Involuntárias     |     42     |\n",
            "|     Voluntárias      |     51     |\n",
            "+----------------------+------------+\n"
          ]
        }
      ]
    },
    {
      "cell_type": "markdown",
      "source": [
        "#FEVEREIRO"
      ],
      "metadata": {
        "id": "c-Y3x6FoFbji"
      }
    },
    {
      "cell_type": "code",
      "source": [
        "import pandas as pd\n",
        "from tabulate import tabulate\n",
        "\n",
        "# Definir o caminho para a planilha de janeiro (ajuste conforme necessário)\n",
        "caminho_planilha_janeiro = '/content/DESLIGAMENTOS 02.24.xlsx'\n",
        "aba_janeiro = 'DESLIGUES FEVEREIRO 24'  # Nome da aba específica que contém os dados\n",
        "\n",
        "try:\n",
        "    # Carregar a planilha de demissões de janeiro e a aba específica\n",
        "    planilha_janeiro = pd.read_excel(caminho_planilha_janeiro, sheet_name=aba_janeiro)\n",
        "\n",
        "    # Verificar se a coluna 'TIPO DE DESLIGAMENTO' existe na planilha\n",
        "    if 'TIPO DE DESLIGAMENTO' not in planilha_janeiro.columns:\n",
        "        raise KeyError(\"'TIPO DE DESLIGAMENTO' não encontrado na aba de janeiro\")\n",
        "\n",
        "    # Tipos de desligamento\n",
        "    desligamentos_involuntarios = [\n",
        "        'TERMINO DE CONTRATO POR PRAZO DETERMINADO - 2ª EXP.',\n",
        "        'DISPENSA SEM JUSTA CAUSA',\n",
        "        'TERMINO DE CONTRATO POR PRAZO DETERMINADO - 1ª EXP.',\n",
        "        'TERMINO DE CONTRATO ANTECIPADO - EMPREGADOR',\n",
        "        'DISPENSA POR JUSTA CAUSA'\n",
        "    ]\n",
        "\n",
        "    desligamentos_voluntarios = [\n",
        "        'PEDIDO DE DESLIGAMENTO - SEM CUMPRIMENTO DE AVISO',\n",
        "        'TERMINO DE CONTRATO ANTECIPADO - A PEDIDO DO EMPREGADO',\n",
        "        'PEDIDO DE DESLIGAMENTO - COM CUMPRIMENTO DE AVISO'\n",
        "    ]\n",
        "\n",
        "    # Contar desligamentos involuntários e voluntários\n",
        "    contagem_involuntarios = planilha_janeiro[planilha_janeiro['TIPO DE DESLIGAMENTO'].isin(desligamentos_involuntarios)].shape[0]\n",
        "    contagem_voluntarios = planilha_janeiro[planilha_janeiro['TIPO DE DESLIGAMENTO'].isin(desligamentos_voluntarios)].shape[0]\n",
        "\n",
        "    # Preparar dados para exibição\n",
        "    desligamentos_data = [\n",
        "        ['Involuntárias', contagem_involuntarios],\n",
        "        ['Voluntárias', contagem_voluntarios]\n",
        "    ]\n",
        "\n",
        "    # Exibir os resultados de forma elegante\n",
        "    print(f\"Demissões em Fevereiro na aba '{aba_janeiro}':\")\n",
        "    print(tabulate(desligamentos_data, headers=['Tipo de Desligamento', 'Quantidade'], tablefmt='pretty'))\n",
        "\n",
        "except FileNotFoundError:\n",
        "    print(f\"Arquivo não encontrado: {caminho_planilha_janeiro}\")\n",
        "except KeyError as e:\n",
        "    print(f\"Erro: {e}\")\n"
      ],
      "metadata": {
        "id": "LW0MB6OXyv9o",
        "colab": {
          "base_uri": "https://localhost:8080/"
        },
        "outputId": "dbddc895-9978-4b06-cb77-94385b2f2252"
      },
      "execution_count": 1,
      "outputs": [
        {
          "output_type": "stream",
          "name": "stdout",
          "text": [
            "Demissões em Fevereiro na aba 'DESLIGUES FEVEREIRO 24':\n",
            "+----------------------+------------+\n",
            "| Tipo de Desligamento | Quantidade |\n",
            "+----------------------+------------+\n",
            "|    Involuntárias     |     28     |\n",
            "|     Voluntárias      |     37     |\n",
            "+----------------------+------------+\n"
          ]
        }
      ]
    },
    {
      "cell_type": "markdown",
      "source": [
        "#MARÇO"
      ],
      "metadata": {
        "id": "2ZG4wB-BF7Sb"
      }
    },
    {
      "cell_type": "code",
      "source": [
        "import pandas as pd\n",
        "from tabulate import tabulate\n",
        "\n",
        "# Definir o caminho para a planilha de janeiro (ajuste conforme necessário)\n",
        "caminho_planilha_janeiro = '/content/DESLIGAMENTOS 03.24.xlsx'\n",
        "aba_janeiro = 'DESLIGUES MARÇO'  # Nome da aba específica que contém os dados\n",
        "\n",
        "try:\n",
        "    # Carregar a planilha de demissões de janeiro e a aba específica\n",
        "    planilha_janeiro = pd.read_excel(caminho_planilha_janeiro, sheet_name=aba_janeiro)\n",
        "\n",
        "    # Verificar se a coluna 'TIPO DE DESLIGAMENTO' existe na planilha\n",
        "    if 'TIPO DE DESLIGAMENTO' not in planilha_janeiro.columns:\n",
        "        raise KeyError(\"'TIPO DE DESLIGAMENTO' não encontrado na aba de janeiro\")\n",
        "\n",
        "    # Tipos de desligamento\n",
        "    desligamentos_involuntarios = [\n",
        "        'TERMINO DE CONTRATO POR PRAZO DETERMINADO - 2ª EXP.',\n",
        "        'DISPENSA SEM JUSTA CAUSA',\n",
        "        'TERMINO DE CONTRATO POR PRAZO DETERMINADO - 1ª EXP.',\n",
        "        'TERMINO DE CONTRATO ANTECIPADO - EMPREGADOR',\n",
        "        'DISPENSA POR JUSTA CAUSA'\n",
        "    ]\n",
        "\n",
        "    desligamentos_voluntarios = [\n",
        "        'PEDIDO DE DESLIGAMENTO - SEM CUMPRIMENTO DE AVISO',\n",
        "        'TERMINO DE CONTRATO ANTECIPADO - A PEDIDO DO EMPREGADO',\n",
        "        'PEDIDO DE DESLIGAMENTO - COM CUMPRIMENTO DE AVISO'\n",
        "    ]\n",
        "\n",
        "    # Contar desligamentos involuntários e voluntários\n",
        "    contagem_involuntarios = planilha_janeiro[planilha_janeiro['TIPO DE DESLIGAMENTO'].isin(desligamentos_involuntarios)].shape[0]\n",
        "    contagem_voluntarios = planilha_janeiro[planilha_janeiro['TIPO DE DESLIGAMENTO'].isin(desligamentos_voluntarios)].shape[0]\n",
        "\n",
        "    # Preparar dados para exibição\n",
        "    desligamentos_data = [\n",
        "        ['Involuntárias', contagem_involuntarios],\n",
        "        ['Voluntárias', contagem_voluntarios]\n",
        "    ]\n",
        "\n",
        "    # Exibir os resultados de forma elegante\n",
        "    print(f\"Demissões em março na aba '{aba_janeiro}':\")\n",
        "    print(tabulate(desligamentos_data, headers=['Tipo de Desligamento', 'Quantidade'], tablefmt='pretty'))\n",
        "\n",
        "except FileNotFoundError:\n",
        "    print(f\"Arquivo não encontrado: {caminho_planilha_janeiro}\")\n",
        "except KeyError as e:\n",
        "    print(f\"Erro: {e}\")\n"
      ],
      "metadata": {
        "colab": {
          "base_uri": "https://localhost:8080/"
        },
        "id": "HWoEM4KH5l1B",
        "outputId": "197bd701-388c-4589-fc7a-30e624b1e1ab"
      },
      "execution_count": null,
      "outputs": [
        {
          "output_type": "stream",
          "name": "stdout",
          "text": [
            "Demissões em março na aba 'DESLIGUES MARÇO':\n",
            "+----------------------+------------+\n",
            "| Tipo de Desligamento | Quantidade |\n",
            "+----------------------+------------+\n",
            "|    Involuntárias     |     46     |\n",
            "|     Voluntárias      |     44     |\n",
            "+----------------------+------------+\n"
          ]
        },
        {
          "output_type": "stream",
          "name": "stderr",
          "text": [
            "/usr/local/lib/python3.10/dist-packages/openpyxl/worksheet/_reader.py:329: UserWarning: Data Validation extension is not supported and will be removed\n",
            "  warn(msg)\n"
          ]
        }
      ]
    },
    {
      "cell_type": "markdown",
      "source": [
        "#ABRIL\n"
      ],
      "metadata": {
        "id": "0MtQC1JALOC2"
      }
    },
    {
      "cell_type": "code",
      "source": [
        "import pandas as pd\n",
        "from tabulate import tabulate\n",
        "\n",
        "# Definir o caminho para a planilha de janeiro (ajuste conforme necessário)\n",
        "caminho_planilha_janeiro = '/content/DESLIGAMENTOS 04.24 (1).xlsx'\n",
        "aba_janeiro = 'DESLIGUES ABRIL'  # Nome da aba específica que contém os dados\n",
        "\n",
        "try:\n",
        "    # Carregar a planilha de demissões de janeiro e a aba específica\n",
        "    planilha_janeiro = pd.read_excel(caminho_planilha_janeiro, sheet_name=aba_janeiro)\n",
        "\n",
        "    # Verificar se a coluna 'TIPO DE DESLIGAMENTO' existe na planilha\n",
        "    if 'TIPO DE DESLIGAMENTO' not in planilha_janeiro.columns:\n",
        "        raise KeyError(\"'TIPO DE DESLIGAMENTO' não encontrado na aba de janeiro\")\n",
        "\n",
        "    # Tipos de desligamento\n",
        "    desligamentos_involuntarios = [\n",
        "        'TERMINO DE CONTRATO POR PRAZO DETERMINADO - 2ª EXP.',\n",
        "        'DISPENSA SEM JUSTA CAUSA',\n",
        "        'TERMINO DE CONTRATO POR PRAZO DETERMINADO - 1ª EXP.',\n",
        "        'TERMINO DE CONTRATO ANTECIPADO - EMPREGADOR',\n",
        "        'DISPENSA POR JUSTA CAUSA'\n",
        "    ]\n",
        "\n",
        "    desligamentos_voluntarios = [\n",
        "        'PEDIDO DE DESLIGAMENTO - SEM CUMPRIMENTO DE AVISO',\n",
        "        'TERMINO DE CONTRATO ANTECIPADO - A PEDIDO DO EMPREGADO',\n",
        "        'PEDIDO DE DESLIGAMENTO - COM CUMPRIMENTO DE AVISO'\n",
        "    ]\n",
        "\n",
        "    # Contar desligamentos involuntários e voluntários\n",
        "    contagem_involuntarios = planilha_janeiro[planilha_janeiro['TIPO DE DESLIGAMENTO'].isin(desligamentos_involuntarios)].shape[0]\n",
        "    contagem_voluntarios = planilha_janeiro[planilha_janeiro['TIPO DE DESLIGAMENTO'].isin(desligamentos_voluntarios)].shape[0]\n",
        "\n",
        "    # Preparar dados para exibição\n",
        "    desligamentos_data = [\n",
        "        ['Involuntárias', contagem_involuntarios],\n",
        "        ['Voluntárias', contagem_voluntarios]\n",
        "    ]\n",
        "\n",
        "    # Exibir os resultados de forma elegante\n",
        "    print(f\"Demissões em ABRIL na aba '{aba_janeiro}':\")\n",
        "    print(tabulate(desligamentos_data, headers=['Tipo de Desligamento', 'Quantidade'], tablefmt='pretty'))\n",
        "\n",
        "except FileNotFoundError:\n",
        "    print(f\"Arquivo não encontrado: {caminho_planilha_janeiro}\")\n",
        "except KeyError as e:\n",
        "    print(f\"Erro: {e}\")\n"
      ],
      "metadata": {
        "colab": {
          "base_uri": "https://localhost:8080/"
        },
        "id": "_lf96U9v56zo",
        "outputId": "86b90d5c-508d-4c0f-f1c2-39cdc9b0fc92"
      },
      "execution_count": null,
      "outputs": [
        {
          "output_type": "stream",
          "name": "stdout",
          "text": [
            "Demissões em ABRIL na aba 'DESLIGUES ABRIL':\n",
            "+----------------------+------------+\n",
            "| Tipo de Desligamento | Quantidade |\n",
            "+----------------------+------------+\n",
            "|    Involuntárias     |     4      |\n",
            "|     Voluntárias      |    106     |\n",
            "+----------------------+------------+\n"
          ]
        }
      ]
    },
    {
      "cell_type": "markdown",
      "source": [
        "#MAIO\n"
      ],
      "metadata": {
        "id": "1PCyvTt9LQvX"
      }
    },
    {
      "cell_type": "code",
      "source": [],
      "metadata": {
        "id": "moWAvdFO6M-R"
      },
      "execution_count": null,
      "outputs": []
    },
    {
      "cell_type": "code",
      "source": [
        "import pandas as pd\n",
        "from tabulate import tabulate\n",
        "\n",
        "# Definir o caminho para a planilha de janeiro (ajuste conforme necessário)\n",
        "caminho_planilha_janeiro = '/content/DESLIGAMENTOS 05.24.xlsx'\n",
        "aba_janeiro = 'DESLIGUES MAIO'  # Nome da aba específica que contém os dados\n",
        "\n",
        "try:\n",
        "    # Carregar a planilha de demissões de janeiro e a aba específica\n",
        "    planilha_janeiro = pd.read_excel(caminho_planilha_janeiro, sheet_name=aba_janeiro)\n",
        "\n",
        "    # Verificar se a coluna 'TIPO DE DESLIGAMENTO' existe na planilha\n",
        "    if 'TIPO DE DESLIGAMENTO' not in planilha_janeiro.columns:\n",
        "        raise KeyError(\"'TIPO DE DESLIGAMENTO' não encontrado na aba de janeiro\")\n",
        "\n",
        "    # Tipos de desligamento\n",
        "    desligamentos_involuntarios = [\n",
        "        'TERMINO DE CONTRATO POR PRAZO DETERMINADO - 2ª EXP.',\n",
        "        'DISPENSA SEM JUSTA CAUSA',\n",
        "        'TERMINO DE CONTRATO POR PRAZO DETERMINADO - 1ª EXP.',\n",
        "        'TERMINO DE CONTRATO ANTECIPADO - EMPREGADOR',\n",
        "        'DISPENSA POR JUSTA CAUSA'\n",
        "    ]\n",
        "\n",
        "    desligamentos_voluntarios = [\n",
        "        'PEDIDO DE DESLIGAMENTO - SEM CUMPRIMENTO DE AVISO',\n",
        "        'TERMINO DE CONTRATO ANTECIPADO - A PEDIDO DO EMPREGADO',\n",
        "        'PEDIDO DE DESLIGAMENTO - COM CUMPRIMENTO DE AVISO'\n",
        "    ]\n",
        "\n",
        "    # Contar desligamentos involuntários e voluntários\n",
        "    contagem_involuntarios = planilha_janeiro[planilha_janeiro['TIPO DE DESLIGAMENTO'].isin(desligamentos_involuntarios)].shape[0]\n",
        "    contagem_voluntarios = planilha_janeiro[planilha_janeiro['TIPO DE DESLIGAMENTO'].isin(desligamentos_voluntarios)].shape[0]\n",
        "\n",
        "    # Preparar dados para exibição\n",
        "    desligamentos_data = [\n",
        "        ['Involuntárias', contagem_involuntarios],\n",
        "        ['Voluntárias', contagem_voluntarios]\n",
        "    ]\n",
        "\n",
        "    # Exibir os resultados de forma elegante\n",
        "    print(f\"Demissões em MAIO na aba '{aba_janeiro}':\")\n",
        "    print(tabulate(desligamentos_data, headers=['Tipo de Desligamento', 'Quantidade'], tablefmt='pretty'))\n",
        "\n",
        "except FileNotFoundError:\n",
        "    print(f\"Arquivo não encontrado: {caminho_planilha_janeiro}\")\n",
        "except KeyError as e:\n",
        "    print(f\"Erro: {e}\")\n"
      ],
      "metadata": {
        "colab": {
          "base_uri": "https://localhost:8080/"
        },
        "id": "iMKmZFSy6P4A",
        "outputId": "3dd5e634-5ce0-4f60-d6fb-29ff6953b20f"
      },
      "execution_count": null,
      "outputs": [
        {
          "output_type": "stream",
          "name": "stdout",
          "text": [
            "Demissões em MAIO na aba 'DESLIGUES MAIO':\n",
            "+----------------------+------------+\n",
            "| Tipo de Desligamento | Quantidade |\n",
            "+----------------------+------------+\n",
            "|    Involuntárias     |     67     |\n",
            "|     Voluntárias      |     43     |\n",
            "+----------------------+------------+\n"
          ]
        }
      ]
    },
    {
      "cell_type": "markdown",
      "source": [
        "#JUNHO"
      ],
      "metadata": {
        "id": "7C79DPzeLTof"
      }
    },
    {
      "cell_type": "code",
      "source": [
        "import pandas as pd\n",
        "from tabulate import tabulate\n",
        "\n",
        "# Definir o caminho para a planilha de janeiro (ajuste conforme necessário)\n",
        "caminho_planilha_janeiro = '/content/DESLIGAMENTOS 06.24.xlsx'\n",
        "aba_janeiro = 'DESLIGUES JUNHO'  # Nome da aba específica que contém os dados\n",
        "\n",
        "try:\n",
        "    # Carregar a planilha de demissões de janeiro e a aba específica\n",
        "    planilha_janeiro = pd.read_excel(caminho_planilha_janeiro, sheet_name=aba_janeiro)\n",
        "\n",
        "    # Verificar se a coluna 'TIPO DE DESLIGAMENTO' existe na planilha\n",
        "    if 'TIPO DE DESLIGAMENTO' not in planilha_janeiro.columns:\n",
        "        raise KeyError(\"'TIPO DE DESLIGAMENTO' não encontrado na aba de janeiro\")\n",
        "\n",
        "    # Tipos de desligamento\n",
        "    desligamentos_involuntarios = [\n",
        "        'TERMINO DE CONTRATO POR PRAZO DETERMINADO - 2ª EXP.',\n",
        "        'DISPENSA SEM JUSTA CAUSA',\n",
        "        'TERMINO DE CONTRATO POR PRAZO DETERMINADO - 1ª EXP.',\n",
        "        'TERMINO DE CONTRATO ANTECIPADO - EMPREGADOR',\n",
        "        'DISPENSA POR JUSTA CAUSA'\n",
        "    ]\n",
        "\n",
        "    desligamentos_voluntarios = [\n",
        "        'PEDIDO DE DESLIGAMENTO - SEM CUMPRIMENTO DE AVISO',\n",
        "        'TERMINO DE CONTRATO ANTECIPADO - A PEDIDO DO EMPREGADO',\n",
        "        'PEDIDO DE DESLIGAMENTO - COM CUMPRIMENTO DE AVISO'\n",
        "    ]\n",
        "\n",
        "    # Contar desligamentos involuntários e voluntários\n",
        "    contagem_involuntarios = planilha_janeiro[planilha_janeiro['TIPO DE DESLIGAMENTO'].isin(desligamentos_involuntarios)].shape[0]\n",
        "    contagem_voluntarios = planilha_janeiro[planilha_janeiro['TIPO DE DESLIGAMENTO'].isin(desligamentos_voluntarios)].shape[0]\n",
        "\n",
        "    # Preparar dados para exibição\n",
        "    desligamentos_data = [\n",
        "        ['Involuntárias', contagem_involuntarios],\n",
        "        ['Voluntárias', contagem_voluntarios]\n",
        "    ]\n",
        "\n",
        "    # Exibir os resultados de forma elegante\n",
        "    print(f\"Demissões em JUNHO na aba '{aba_janeiro}':\")\n",
        "    print(tabulate(desligamentos_data, headers=['Tipo de Desligamento', 'Quantidade'], tablefmt='pretty'))\n",
        "\n",
        "except FileNotFoundError:\n",
        "    print(f\"Arquivo não encontrado: {caminho_planilha_janeiro}\")\n",
        "except KeyError as e:\n",
        "    print(f\"Erro: {e}\")\n"
      ],
      "metadata": {
        "colab": {
          "base_uri": "https://localhost:8080/"
        },
        "id": "CLDwleVl6dmI",
        "outputId": "253343cc-f08c-4cce-b323-7c2bf006b838"
      },
      "execution_count": null,
      "outputs": [
        {
          "output_type": "stream",
          "name": "stdout",
          "text": [
            "Demissões em JUNHO na aba 'DESLIGUES JUNHO':\n",
            "+----------------------+------------+\n",
            "| Tipo de Desligamento | Quantidade |\n",
            "+----------------------+------------+\n",
            "|    Involuntárias     |     65     |\n",
            "|     Voluntárias      |     42     |\n",
            "+----------------------+------------+\n"
          ]
        },
        {
          "output_type": "stream",
          "name": "stderr",
          "text": [
            "/usr/local/lib/python3.10/dist-packages/openpyxl/worksheet/_reader.py:329: UserWarning: Data Validation extension is not supported and will be removed\n",
            "  warn(msg)\n"
          ]
        }
      ]
    },
    {
      "cell_type": "markdown",
      "source": [
        "#Genero"
      ],
      "metadata": {
        "id": "mkvRdCzBqYGg"
      }
    },
    {
      "cell_type": "code",
      "source": [
        "import pandas as pd\n",
        "\n",
        "# Carregar a planilha\n",
        "arquivo_excel = '/content/Cópia de lista de colaboradores ativos - julia (003).xlsx'\n",
        "planilha = pd.read_excel(arquivo_excel, sheet_name='DESLIGADOS')\n",
        "\n",
        "# Converter a coluna 'Dt. Demissao' para o tipo datetime\n",
        "planilha['Dt. Demissao'] = pd.to_datetime(planilha['Dt. Demissao'], errors='coerce')\n",
        "\n",
        "# Filtrar os dados para considerar apenas as demissões ocorridas em 2024\n",
        "demissoes_2024 = planilha[planilha['Dt. Demissao'].dt.year == 2024]\n",
        "\n",
        "# Analisar a coluna 'Sexo' e contar as demissões por gênero em 2024\n",
        "contagem_demissoes_2024 = demissoes_2024['Sexo'].value_counts()\n",
        "\n",
        "# Extrair contagem de homens e mulheres demitidos em 2024\n",
        "mulheres_demitidas_2024 = contagem_demissoes_2024.get('Feminino', 0)\n",
        "homens_demitidos_2024 = contagem_demissoes_2024.get('Masculino', 0)\n",
        "\n",
        "# Exibir os resultados\n",
        "print(f'Mulheres demitidas em 2024: {mulheres_demitidas_2024}')\n",
        "print(f'Homens demitidos em 2024: {homens_demitidos_2024}')\n"
      ],
      "metadata": {
        "colab": {
          "base_uri": "https://localhost:8080/"
        },
        "id": "JrQbz_V4q_E4",
        "outputId": "f63423a1-22c8-4a41-b12b-fcbfd1b85cfe"
      },
      "execution_count": null,
      "outputs": [
        {
          "output_type": "stream",
          "name": "stdout",
          "text": [
            "Mulheres demitidas em 2024: 378\n",
            "Homens demitidos em 2024: 239\n"
          ]
        }
      ]
    },
    {
      "cell_type": "markdown",
      "source": [
        "# DEMISSÕES POR CENTRO DE CUSTO E POR CARGO"
      ],
      "metadata": {
        "id": "R3DOZM6Nsj64"
      }
    },
    {
      "cell_type": "code",
      "source": [
        "!pip install tabulate\n"
      ],
      "metadata": {
        "colab": {
          "base_uri": "https://localhost:8080/"
        },
        "id": "HbBAJA5otFOA",
        "outputId": "a2cc506c-4574-4b73-d2c6-f1432b695c17"
      },
      "execution_count": null,
      "outputs": [
        {
          "output_type": "stream",
          "name": "stdout",
          "text": [
            "Requirement already satisfied: tabulate in /usr/local/lib/python3.10/dist-packages (0.9.0)\n"
          ]
        }
      ]
    },
    {
      "cell_type": "code",
      "source": [
        "import pandas as pd\n",
        "from tabulate import tabulate\n",
        "\n",
        "# Carregar a planilha\n",
        "arquivo_excel = '/content/Cópia de lista de colaboradores ativos - julia (003).xlsx'\n",
        "planilha = pd.read_excel(arquivo_excel, sheet_name='DESLIGADOS')\n",
        "\n",
        "# Converter a coluna 'Dt. Demissao' para o tipo datetime\n",
        "planilha['Dt. Demissao'] = pd.to_datetime(planilha['Dt. Demissao'], errors='coerce')\n",
        "\n",
        "# Filtrar os dados para considerar apenas as demissões ocorridas em 2024\n",
        "demissoes_2024 = planilha[planilha['Dt. Demissao'].dt.year == 2024]\n",
        "\n",
        "# Contar as demissões por Centro de Custo em 2024\n",
        "contagem_por_centro_custo = demissoes_2024['Centro Custo'].value_counts().reset_index()\n",
        "contagem_por_centro_custo.columns = ['Centro de Custo', 'Quantidade de Demissões']\n",
        "\n",
        "# Contar as demissões por Função/Cargo em 2024\n",
        "contagem_por_funcao = demissoes_2024['Desc.Funcao'].value_counts().reset_index()\n",
        "contagem_por_funcao.columns = ['Função/Cargo', 'Quantidade de Demissões']\n",
        "\n",
        "# Exibir os resultados de forma elegante\n",
        "print(\"Demissões em 2024 por Centro de Custo:\")\n",
        "print(tabulate(contagem_por_centro_custo, headers='keys', tablefmt='pretty', showindex=False))\n",
        "\n",
        "print(\"\\nDemissões em 2024 por Função/Cargo:\")\n",
        "print(tabulate(contagem_por_funcao, headers='keys', tablefmt='pretty', showindex=False))\n"
      ],
      "metadata": {
        "colab": {
          "base_uri": "https://localhost:8080/"
        },
        "id": "KPuzDZKhtIhQ",
        "outputId": "be9c7224-c120-459a-c251-c396bd78e0f8"
      },
      "execution_count": null,
      "outputs": [
        {
          "output_type": "stream",
          "name": "stdout",
          "text": [
            "Demissões em 2024 por Centro de Custo:\n",
            "+-----------------------+-------------------------+\n",
            "|    Centro de Custo    | Quantidade de Demissões |\n",
            "+-----------------------+-------------------------+\n",
            "|   GUARDIAN - ATIVO    |           83            |\n",
            "|    PRIVATE - BCARD    |           59            |\n",
            "|    EMPRESTIMO AGIL    |           48            |\n",
            "|     ADESÃO BCARD      |           42            |\n",
            "|   ATENDIMENTO VISA    |           40            |\n",
            "|      ADESÃO BOLT      |           36            |\n",
            "|    COBRANÇA BCARD     |           30            |\n",
            "|   ATENDIMENTO BCARD   |           26            |\n",
            "|   CONSIGNADO - AGIL   |           25            |\n",
            "|      NEGOCIAÇÃO       |           21            |\n",
            "|      RH - BCARD       |           20            |\n",
            "|   GUARDIAN - BOLETO   |           18            |\n",
            "|    CONSIGNADO AGIL    |           17            |\n",
            "|    CREDIARIO ACIMA    |           16            |\n",
            "|     COBRANÇA AGIL     |           16            |\n",
            "|   CREDIARIO POPULAR   |           13            |\n",
            "|    PRÉ-VENDAS BOLT    |           10            |\n",
            "|      FACILITIES       |            8            |\n",
            "|   PROSPECCÃO  AGIL    |            8            |\n",
            "|      ADESAO BOLT      |            7            |\n",
            "|    POS VENDA BCARD    |            7            |\n",
            "|   ATENDIMENTO AGIL    |            6            |\n",
            "|    NEGOCIACAO VISA    |            6            |\n",
            "|    ATEND CAMPANHA     |            6            |\n",
            "|   AUDITORIA - BCARD   |            6            |\n",
            "|    PÓS VENDA BOLT     |            5            |\n",
            "|       RH - BOLT       |            5            |\n",
            "|       MARKETING       |            4            |\n",
            "|    CREDIÁRIO VISA     |            3            |\n",
            "|   AUDITORIA - AGIL    |            3            |\n",
            "|   GUARDIAN COBRANÇA   |            3            |\n",
            "|    INFRA ESTRUTURA    |            3            |\n",
            "|  REGULARIZAÇÃO AGIL   |            2            |\n",
            "|    SUPORTE - BOLT     |            2            |\n",
            "|      TREINAMENTO      |            2            |\n",
            "| CONTROLE DE QUALIDADE |            2            |\n",
            "| AUDITORIA - GUARDIAN  |            2            |\n",
            "| RECEPTIVO - GUARDIAN  |            1            |\n",
            "| PLANEJAMENTO - BCARD  |            1            |\n",
            "|    INFRAESTRUTURA     |            1            |\n",
            "|    POS VENDA BOLT     |            1            |\n",
            "|    SUPORTE - BCARD    |            1            |\n",
            "|   CONSIGNADO  AGIL    |            1            |\n",
            "|   AUDITORIA - BOLT    |            1            |\n",
            "+-----------------------+-------------------------+\n",
            "\n",
            "Demissões em 2024 por Função/Cargo:\n",
            "+----------------------+-------------------------+\n",
            "|     Função/Cargo     | Quantidade de Demissões |\n",
            "+----------------------+-------------------------+\n",
            "| OP DE TELEMARKETING  |           517           |\n",
            "|  SUPERV. OPERACAO I  |           10            |\n",
            "|   ASSISTENTE DE RH   |           10            |\n",
            "|  AUDIT QUALIDADE II  |            9            |\n",
            "|  AUX ADMINISTRATIVO  |            8            |\n",
            "| JOV APRENDIZ ASS ADM |            8            |\n",
            "| MONIT DE OPERACAO II |            6            |\n",
            "| MONITOR DE OPERAÇÃO  |            4            |\n",
            "| AUD DE QUALIDADE II  |            3            |\n",
            "|     AUX. LIMPEZA     |            3            |\n",
            "|  CONTROLE DE ACESSO  |            3            |\n",
            "| ASSISTENTE DE RH II  |            3            |\n",
            "|   ASSISTENTE DE TI   |            3            |\n",
            "| ANALIS REC HUMAN III |            2            |\n",
            "|  ANALISTA DE PROCES  |            2            |\n",
            "|  ANALIST CON QUAL I  |            2            |\n",
            "| REDATOR PUBLICIDADE  |            2            |\n",
            "|   ASSISTENTE DE DP   |            2            |\n",
            "| SUPERV. OPERACAO II  |            2            |\n",
            "|   MONITOR DE OP II   |            1            |\n",
            "| SUPERV. OPERACAO III |            1            |\n",
            "| ASSISTENTE DE RH III |            1            |\n",
            "|  SUP DE OPERACOES I  |            1            |\n",
            "|   ASSISTENTE DE BI   |            1            |\n",
            "|  SUPERV. QUALIDADE   |            1            |\n",
            "| INST TREINAMENTO IV  |            1            |\n",
            "| ANALISTA DE DADOS I  |            1            |\n",
            "| ANALISTA DE REC HUMA |            1            |\n",
            "| AUX DE MANUT PREDIAL |            1            |\n",
            "| GERENTE DE OPERAÇÕES |            1            |\n",
            "|  ANALISTA MARKETING  |            1            |\n",
            "|  INST TREINAMENTO I  |            1            |\n",
            "|        VIGIA         |            1            |\n",
            "|  SUPER COMERCIAL I   |            1            |\n",
            "|    ANALISTA DE TI    |            1            |\n",
            "|  ASSISTENTE DE MKT   |            1            |\n",
            "|  AUD DE QUALIDADE I  |            1            |\n",
            "+----------------------+-------------------------+\n"
          ]
        }
      ]
    }
  ]
}