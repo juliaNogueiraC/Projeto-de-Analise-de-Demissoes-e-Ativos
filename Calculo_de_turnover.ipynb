{
  "nbformat": 4,
  "nbformat_minor": 0,
  "metadata": {
    "colab": {
      "provenance": [],
      "authorship_tag": "ABX9TyMDjFEDoUneyvRt+HKImraA",
      "include_colab_link": true
    },
    "kernelspec": {
      "name": "python3",
      "display_name": "Python 3"
    },
    "language_info": {
      "name": "python"
    }
  },
  "cells": [
    {
      "cell_type": "markdown",
      "metadata": {
        "id": "view-in-github",
        "colab_type": "text"
      },
      "source": [
        "<a href=\"https://colab.research.google.com/github/juliaNogueiraC/Projeto-de-Analise-de-Demissoes-e-Ativos/blob/main/Calculo_de_turnover.ipynb\" target=\"_parent\"><img src=\"https://colab.research.google.com/assets/colab-badge.svg\" alt=\"Open In Colab\"/></a>"
      ]
    },
    {
      "cell_type": "code",
      "source": [],
      "metadata": {
        "id": "Ler3_xlE84jc"
      },
      "execution_count": null,
      "outputs": []
    },
    {
      "cell_type": "markdown",
      "source": [
        "#FUNCIONÁRIOS ATIVOS E INATIVOS"
      ],
      "metadata": {
        "id": "gourLVjXEGSD"
      }
    },
    {
      "cell_type": "code",
      "source": [
        "import pandas as pd\n",
        "\n",
        "# Carregar as duas abas da planilha\n",
        "df_ativos = pd.read_excel('/content/planilha.xlsx', sheet_name='Ativos', parse_dates=['Data Admis.'])\n",
        "df_demitidos = pd.read_excel('/content/planilha.xlsx', sheet_name='Desligados', parse_dates=['Data Admis.', 'Dt. Demissao'])\n",
        "\n",
        "# Converter as colunas de datas para o formato correto (dia/mês/ano)\n",
        "df_ativos['Data Admis.'] = pd.to_datetime(df_ativos['Data Admis.'], dayfirst=True)\n",
        "df_demitidos['Data Admis.'] = pd.to_datetime(df_demitidos['Data Admis.'], dayfirst=True)\n",
        "df_demitidos['Dt. Demissao'] = pd.to_datetime(df_demitidos['Dt. Demissao'], dayfirst=True)\n",
        "\n",
        "# Definir o período de análise\n",
        "meses = ['janeiro', 'fevereiro', 'março', 'abril', 'maio', 'junho']\n",
        "meses_num = [1, 2, 3, 4, 5, 6]\n",
        "\n",
        "# Filtrar demissões por mês em 2024\n",
        "demitidos_2024 = df_demitidos[df_demitidos['Dt. Demissao'].dt.year == 2024]\n",
        "demitidos_por_mes = demitidos_2024.groupby(demitidos_2024['Dt. Demissao'].dt.month).size().reindex(meses_num, fill_value=0).to_dict()\n",
        "\n",
        "# Filtrar ativos por mês em 2024\n",
        "ativos_por_mes = {}\n",
        "for mes_num, mes in zip(meses_num, meses):\n",
        "    # Funcionários ativos até o início do mês corrente\n",
        "    ativos_antes_mes = df_ativos[df_ativos['Data Admis.'] <= pd.Timestamp(f'2024-{mes_num:02d}-01')]\n",
        "    demitidos_antes_mes = df_demitidos[(df_demitidos['Data Admis.'] <= pd.Timestamp(f'2024-{mes_num:02d}-01')) &\n",
        "                                       (df_demitidos['Dt. Demissao'] > pd.Timestamp(f'2024-{mes_num:02d}-01'))]\n",
        "    ativos_por_mes[mes] = len(ativos_antes_mes) + len(demitidos_antes_mes) - demitidos_por_mes[mes_num]\n",
        "\n",
        "# Exibir os resultados\n",
        "print(\"Funcionários demitidos por mês em 2024:\")\n",
        "for mes_num, mes in zip(meses_num, meses):\n",
        "    print(f\"{mes.capitalize()}: {demitidos_por_mes[mes_num]}\")\n",
        "\n",
        "print(\"\\nFuncionários ativos por mês em 2024:\")\n",
        "for mes, count in ativos_por_mes.items():\n",
        "    print(f\"{mes.capitalize()}: {count}\")\n"
      ],
      "metadata": {
        "colab": {
          "base_uri": "https://localhost:8080/"
        },
        "id": "-9RsFFjO_kjj",
        "outputId": "1d397a7d-74b4-4c52-f179-57af93430c91"
      },
      "execution_count": null,
      "outputs": [
        {
          "output_type": "stream",
          "name": "stdout",
          "text": [
            "Funcionários demitidos por mês em 2024:\n",
            "Janeiro: 93\n",
            "Fevereiro: 65\n",
            "Março: 90\n",
            "Abril: 110\n",
            "Maio: 120\n",
            "Junho: 139\n",
            "\n",
            "Funcionários ativos por mês em 2024:\n",
            "Janeiro: 993\n",
            "Fevereiro: 1094\n",
            "Março: 1164\n",
            "Abril: 1270\n",
            "Maio: 1361\n",
            "Junho: 1321\n"
          ]
        }
      ]
    },
    {
      "cell_type": "markdown",
      "source": [
        "#JANEIRO"
      ],
      "metadata": {
        "id": "BrvN8iuYEXN6"
      }
    },
    {
      "cell_type": "code",
      "source": [
        "import pandas as pd\n",
        "\n",
        "# Definir o caminho para a planilha de janeiro (ajuste conforme necessário)\n",
        "caminho_planilha_janeiro = '/content/DESLIGAMENTOS 01.24.xlsx'\n",
        "aba_janeiro = 'DESLIGUES JANEIRO 24'  # Nome da aba específica que contém os dados\n",
        "\n",
        "try:\n",
        "    # Carregar a planilha de demissões de janeiro e a aba específica\n",
        "    planilha_janeiro = pd.read_excel(caminho_planilha_janeiro, sheet_name=aba_janeiro)\n",
        "\n",
        "    # Verificar se a coluna 'tipo de desligamento' existe na planilha\n",
        "    if 'TIPO DE DESLIGAMENTO' not in planilha_janeiro.columns:\n",
        "        raise KeyError(\"'tipo de desligamento' não encontrado na aba de janeiro\")\n",
        "\n",
        "    # Tipos de desligamento\n",
        "    desligamentos_involuntarios = [\n",
        "        'TERMINO DE CONTRATO POR PRAZO DETERMINADO - 2ª EXP.',\n",
        "        'DISPENSA SEM JUSTA CAUSA',\n",
        "        'TERMINO DE CONTRATO POR PRAZO DETERMINADO - 1ª EXP.',\n",
        "        'TERMINO DE CONTRATO ANTECIPADO - EMPREGADOR'\n",
        "        'DISPENSA POR JUSTA CAUSA'\n",
        "\n",
        "    ]\n",
        "\n",
        "    desligamentos_voluntarios = [\n",
        "        'PEDIDO DE DESLIGAMENTO - SEM CUMPRIMENTO DE AVISO',\n",
        "        'TERMINO DE CONTRATO ANTECIPADO - A PEDIDO DO EMPREGADO'\n",
        "        'PEDIDO DE DESLIGAMENTO - COM CUMPRIMENTO DE AVISO'\n",
        "\n",
        "    ]\n",
        "\n",
        "    # Contar desligamentos involuntários e voluntários\n",
        "    contagem_involuntarios = planilha_janeiro[planilha_janeiro['TIPO DE DESLIGAMENTO'].isin(desligamentos_involuntarios)].shape[0]\n",
        "    contagem_voluntarios = planilha_janeiro[planilha_janeiro['TIPO DE DESLIGAMENTO'].isin(desligamentos_voluntarios)].shape[0]\n",
        "\n",
        "    # Exibir os resultados\n",
        "    print(f\"Demissões involuntárias em janeiro na aba '{aba_janeiro}': {contagem_involuntarios}\")\n",
        "    print(f\"Demissões voluntárias em janeiro na aba '{aba_janeiro}': {contagem_voluntarios}\")\n",
        "\n",
        "except FileNotFoundError:\n",
        "    print(f\"Arquivo não encontrado: {caminho_planilha_janeiro}\")\n",
        "except KeyError as e:\n",
        "    print(f\"Erro: {e}\")\n"
      ],
      "metadata": {
        "colab": {
          "base_uri": "https://localhost:8080/"
        },
        "id": "7CmzG-igENkg",
        "outputId": "66c3f774-cd35-4e16-8f64-ba808c3bfd17"
      },
      "execution_count": null,
      "outputs": [
        {
          "output_type": "stream",
          "name": "stdout",
          "text": [
            "Demissões involuntárias em janeiro na aba 'DESLIGUES JANEIRO 24': 38\n",
            "Demissões voluntárias em janeiro na aba 'DESLIGUES JANEIRO 24': 18\n"
          ]
        }
      ]
    },
    {
      "cell_type": "code",
      "source": [
        "import pandas as pd\n",
        "\n",
        "# Definir o caminho para a planilha de janeiro (ajuste conforme necessário)\n",
        "caminho_planilha_janeiro = '/content/DESLIGAMENTOS 01.24.xlsx'\n",
        "aba_janeiro = 'DESLIGUES JANEIRO 24'  # Nome da aba específica que contém os dados\n",
        "\n",
        "try:\n",
        "    # Carregar a planilha de demissões de janeiro e a aba específica\n",
        "    planilha_janeiro = pd.read_excel(caminho_planilha_janeiro, sheet_name=aba_janeiro)\n",
        "\n",
        "    # Verificar se a coluna 'TIPO DE DESLIGAMENTO' existe na planilha\n",
        "    if 'TIPO DE DESLIGAMENTO' not in planilha_janeiro.columns:\n",
        "        raise KeyError(\"'TIPO DE DESLIGAMENTO' não encontrado na aba de janeiro\")\n",
        "\n",
        "    # Tipos de desligamento involuntários e voluntários\n",
        "    desligamentos_involuntarios = [\n",
        "        'TERMINO DE CONTRATO POR PRAZO DETERMINADO - 2ª EXP.',\n",
        "        'DISPENSA SEM JUSTA CAUSA',\n",
        "        'TERMINO DE CONTRATO POR PRAZO DETERMINADO - 1ª EXP.',\n",
        "        'TERMINO DE CONTRATO ANTECIPADO - EMPREGADOR',\n",
        "        'DISPENSA POR JUSTA CAUSA'\n",
        "    ]\n",
        "\n",
        "    desligamentos_voluntarios = [\n",
        "        'PEDIDO DE DESLIGAMENTO - SEM CUMPRIMENTO DE AVISO',\n",
        "        'TERMINO DE CONTRATO ANTECIPADO - A PEDIDO DO EMPREGADO',\n",
        "        'PEDIDO DE DESLIGAMENTO - COM CUMPRIMENTO DE AVISO'\n",
        "    ]\n",
        "\n",
        "    # Inicializar contadores\n",
        "    contagem_involuntarios = 0\n",
        "    contagem_voluntarios = 0\n",
        "\n",
        "    # Contar desligamentos involuntários\n",
        "    for tipo in desligamentos_involuntarios:\n",
        "        if tipo in planilha_janeiro['TIPO DE DESLIGAMENTO'].values:\n",
        "            contagem_involuntarios += planilha_janeiro[planilha_janeiro['TIPO DE DESLIGAMENTO'] == tipo].shape[0]\n",
        "\n",
        "    # Contar desligamentos voluntários\n",
        "    for tipo in desligamentos_voluntarios:\n",
        "        if tipo in planilha_janeiro['TIPO DE DESLIGAMENTO'].values:\n",
        "            contagem_voluntarios += planilha_janeiro[planilha_janeiro['TIPO DE DESLIGAMENTO'] == tipo].shape[0]\n",
        "\n",
        "    # Exibir os resultados\n",
        "    print(f\"Demissões involuntárias em janeiro na aba '{aba_janeiro}': {contagem_involuntarios}\")\n",
        "    print(f\"Demissões voluntárias em janeiro na aba '{aba_janeiro}': {contagem_voluntarios}\")\n",
        "\n",
        "except FileNotFoundError:\n",
        "    print(f\"Arquivo não encontrado: {caminho_planilha_janeiro}\")\n",
        "except KeyError as e:\n",
        "    print(f\"Erro: {e}\")\n"
      ],
      "metadata": {
        "colab": {
          "base_uri": "https://localhost:8080/"
        },
        "id": "xNnx0b7-H8W-",
        "outputId": "3a4b4017-3a97-4f3d-f6a5-e26c5396f534"
      },
      "execution_count": null,
      "outputs": [
        {
          "output_type": "stream",
          "name": "stdout",
          "text": [
            "Demissões involuntárias em janeiro na aba 'DESLIGUES JANEIRO 24': 42\n",
            "Demissões voluntárias em janeiro na aba 'DESLIGUES JANEIRO 24': 51\n"
          ]
        }
      ]
    },
    {
      "cell_type": "markdown",
      "source": [
        "#FEVEREIRO"
      ],
      "metadata": {
        "id": "c-Y3x6FoFbji"
      }
    },
    {
      "cell_type": "code",
      "source": [
        "import pandas as pd\n",
        "\n",
        "# Definir o caminho para a planilha de janeiro (ajuste conforme necessário)\n",
        "caminho_planilha_janeiro = '/content/DESLIGAMENTOS 02.24.xlsx'\n",
        "aba_janeiro = 'DESLIGUES FEVEREIRO 24'  # Nome da aba específica que contém os dados\n",
        "\n",
        "try:\n",
        "    # Carregar a planilha de demissões de janeiro e a aba específica\n",
        "    planilha_janeiro = pd.read_excel(caminho_planilha_janeiro, sheet_name=aba_janeiro)\n",
        "\n",
        "    # Verificar se a coluna 'TIPO DE DESLIGAMENTO' existe na planilha\n",
        "    if 'TIPO DE DESLIGAMENTO' not in planilha_janeiro.columns:\n",
        "        raise KeyError(\"'TIPO DE DESLIGAMENTO' não encontrado na aba de janeiro\")\n",
        "\n",
        "    # Tipos de desligamento involuntários e voluntários\n",
        "    desligamentos_involuntarios = [\n",
        "        'TERMINO DE CONTRATO POR PRAZO DETERMINADO - 2ª EXP.',\n",
        "        'DISPENSA SEM JUSTA CAUSA',\n",
        "        'TERMINO DE CONTRATO POR PRAZO DETERMINADO - 1ª EXP.',\n",
        "        'TERMINO DE CONTRATO ANTECIPADO - EMPREGADOR',\n",
        "        'DISPENSA POR JUSTA CAUSA'\n",
        "    ]\n",
        "\n",
        "    desligamentos_voluntarios = [\n",
        "        'PEDIDO DE DESLIGAMENTO - SEM CUMPRIMENTO DE AVISO',\n",
        "        'TERMINO DE CONTRATO ANTECIPADO - A PEDIDO DO EMPREGADO',\n",
        "        'PEDIDO DE DESLIGAMENTO - COM CUMPRIMENTO DE AVISO'\n",
        "    ]\n",
        "\n",
        "    # Inicializar contadores\n",
        "    contagem_involuntarios = 0\n",
        "    contagem_voluntarios = 0\n",
        "\n",
        "    # Contar desligamentos involuntários\n",
        "    for tipo in desligamentos_involuntarios:\n",
        "        if tipo in planilha_janeiro['TIPO DE DESLIGAMENTO'].values:\n",
        "            contagem_involuntarios += planilha_janeiro[planilha_janeiro['TIPO DE DESLIGAMENTO'] == tipo].shape[0]\n",
        "\n",
        "    # Contar desligamentos voluntários\n",
        "    for tipo in desligamentos_voluntarios:\n",
        "        if tipo in planilha_janeiro['TIPO DE DESLIGAMENTO'].values:\n",
        "            contagem_voluntarios += planilha_janeiro[planilha_janeiro['TIPO DE DESLIGAMENTO'] == tipo].shape[0]\n",
        "\n",
        "    # Exibir os resultados\n",
        "    print(f\"Demissões involuntárias em FEV na aba '{aba_janeiro}': {contagem_involuntarios}\")\n",
        "    print(f\"Demissões voluntárias em FEV na aba '{aba_janeiro}': {contagem_voluntarios}\")\n",
        "\n",
        "except FileNotFoundError:\n",
        "    print(f\"Arquivo não encontrado: {caminho_planilha_janeiro}\")\n",
        "except KeyError as e:\n",
        "    print(f\"Erro: {e}\")\n"
      ],
      "metadata": {
        "colab": {
          "base_uri": "https://localhost:8080/"
        },
        "id": "liku1E8fFdDJ",
        "outputId": "715e2ca8-a862-41f2-e572-8690fab99496"
      },
      "execution_count": null,
      "outputs": [
        {
          "output_type": "stream",
          "name": "stdout",
          "text": [
            "Demissões involuntárias em FEV na aba 'DESLIGUES FEVEREIRO 24': 28\n",
            "Demissões voluntárias em FEV na aba 'DESLIGUES FEVEREIRO 24': 37\n"
          ]
        }
      ]
    },
    {
      "cell_type": "markdown",
      "source": [
        "#MARÇO"
      ],
      "metadata": {
        "id": "2ZG4wB-BF7Sb"
      }
    },
    {
      "cell_type": "code",
      "source": [
        "import pandas as pd\n",
        "\n",
        "# Definir o caminho para a planilha de janeiro (ajuste conforme necessário)\n",
        "caminho_planilha_janeiro = '/content/DESLIGAMENTOS 03.24.xlsx'\n",
        "aba_janeiro = 'DESLIGUES MARÇO'  # Nome da aba específica que contém os dados\n",
        "\n",
        "try:\n",
        "    # Carregar a planilha de demissões de janeiro e a aba específica\n",
        "    planilha_janeiro = pd.read_excel(caminho_planilha_janeiro, sheet_name=aba_janeiro)\n",
        "\n",
        "    # Verificar se a coluna 'TIPO DE DESLIGAMENTO' existe na planilha\n",
        "    if 'TIPO DE DESLIGAMENTO' not in planilha_janeiro.columns:\n",
        "        raise KeyError(\"'TIPO DE DESLIGAMENTO' não encontrado na aba de janeiro\")\n",
        "\n",
        "    # Tipos de desligamento involuntários e voluntários\n",
        "    desligamentos_involuntarios = [\n",
        "        'TERMINO DE CONTRATO POR PRAZO DETERMINADO - 2ª EXP.',\n",
        "        'DISPENSA SEM JUSTA CAUSA',\n",
        "        'TERMINO DE CONTRATO POR PRAZO DETERMINADO - 1ª EXP.',\n",
        "        'TERMINO DE CONTRATO ANTECIPADO - EMPREGADOR',\n",
        "        'DISPENSA POR JUSTA CAUSA'\n",
        "    ]\n",
        "\n",
        "    desligamentos_voluntarios = [\n",
        "        'PEDIDO DE DESLIGAMENTO - SEM CUMPRIMENTO DE AVISO',\n",
        "        'TERMINO DE CONTRATO ANTECIPADO - A PEDIDO DO EMPREGADO',\n",
        "        'PEDIDO DE DESLIGAMENTO - COM CUMPRIMENTO DE AVISO'\n",
        "    ]\n",
        "\n",
        "    # Inicializar contadores\n",
        "    contagem_involuntarios = 0\n",
        "    contagem_voluntarios = 0\n",
        "\n",
        "    # Contar desligamentos involuntários\n",
        "    for tipo in desligamentos_involuntarios:\n",
        "        if tipo in planilha_janeiro['TIPO DE DESLIGAMENTO'].values:\n",
        "            contagem_involuntarios += planilha_janeiro[planilha_janeiro['TIPO DE DESLIGAMENTO'] == tipo].shape[0]\n",
        "\n",
        "    # Contar desligamentos voluntários\n",
        "    for tipo in desligamentos_voluntarios:\n",
        "        if tipo in planilha_janeiro['TIPO DE DESLIGAMENTO'].values:\n",
        "            contagem_voluntarios += planilha_janeiro[planilha_janeiro['TIPO DE DESLIGAMENTO'] == tipo].shape[0]\n",
        "\n",
        "    # Exibir os resultados\n",
        "    print(f\"Demissões involuntárias em MAR na aba '{aba_janeiro}': {contagem_involuntarios}\")\n",
        "    print(f\"Demissões voluntárias em MAR na aba '{aba_janeiro}': {contagem_voluntarios}\")\n",
        "\n",
        "except FileNotFoundError:\n",
        "    print(f\"Arquivo não encontrado: {caminho_planilha_janeiro}\")\n",
        "except KeyError as e:\n",
        "    print(f\"Erro: {e}\")\n"
      ],
      "metadata": {
        "colab": {
          "base_uri": "https://localhost:8080/"
        },
        "id": "jYHnYoLKF8mi",
        "outputId": "fff320b5-b80d-4537-fbb8-0a10d846aeeb"
      },
      "execution_count": null,
      "outputs": [
        {
          "output_type": "stream",
          "name": "stdout",
          "text": [
            "Demissões involuntárias em MAR na aba 'DESLIGUES MARÇO': 46\n",
            "Demissões voluntárias em MAR na aba 'DESLIGUES MARÇO': 44\n"
          ]
        },
        {
          "output_type": "stream",
          "name": "stderr",
          "text": [
            "/usr/local/lib/python3.10/dist-packages/openpyxl/worksheet/_reader.py:329: UserWarning: Data Validation extension is not supported and will be removed\n",
            "  warn(msg)\n"
          ]
        }
      ]
    },
    {
      "cell_type": "markdown",
      "source": [
        "#ABRIL\n"
      ],
      "metadata": {
        "id": "0MtQC1JALOC2"
      }
    },
    {
      "cell_type": "code",
      "source": [
        "import pandas as pd\n",
        "\n",
        "# Definir o caminho para a planilha de janeiro (ajuste conforme necessário)\n",
        "caminho_planilha_janeiro = '/content/DESLIGAMENTOS 04.24 (1).xlsx'\n",
        "aba_janeiro = 'DESLIGUES ABRIL'  # Nome da aba específica que contém os dados\n",
        "\n",
        "try:\n",
        "    # Carregar a planilha de demissões de janeiro e a aba específica\n",
        "    planilha_janeiro = pd.read_excel(caminho_planilha_janeiro, sheet_name=aba_janeiro)\n",
        "\n",
        "    # Verificar se a coluna 'TIPO DE DESLIGAMENTO' existe na planilha\n",
        "    if 'TIPO DE DESLIGAMENTO' not in planilha_janeiro.columns:\n",
        "        raise KeyError(\"'TIPO DE DESLIGAMENTO' não encontrado na aba de janeiro\")\n",
        "\n",
        "    # Tipos de desligamento involuntários e voluntários\n",
        "    desligamentos_involuntarios = [\n",
        "        'TERMINO DE CONTRATO POR PRAZO DETERMINADO - 2ª EXP.',\n",
        "        'DISPENSA SEM JUSTA CAUSA',\n",
        "        'TERMINO DE CONTRATO POR PRAZO DETERMINADO - 1ª EXP.',\n",
        "        'TERMINO DE CONTRATO ANTECIPADO - EMPREGADOR',\n",
        "        'DISPENSA POR JUSTA CAUSA'\n",
        "    ]\n",
        "\n",
        "    desligamentos_voluntarios = [\n",
        "        'PEDIDO DE DESLIGAMENTO - SEM CUMPRIMENTO DE AVISO',\n",
        "        'TERMINO DE CONTRATO ANTECIPADO - A PEDIDO DO EMPREGADO',\n",
        "        'PEDIDO DE DESLIGAMENTO - COM CUMPRIMENTO DE AVISO'\n",
        "    ]\n",
        "\n",
        "    # Inicializar contadores\n",
        "    contagem_involuntarios = 0\n",
        "    contagem_voluntarios = 0\n",
        "\n",
        "    # Contar desligamentos involuntários\n",
        "    for tipo in desligamentos_involuntarios:\n",
        "        if tipo in planilha_janeiro['TIPO DE DESLIGAMENTO'].values:\n",
        "            contagem_involuntarios += planilha_janeiro[planilha_janeiro['TIPO DE DESLIGAMENTO'] == tipo].shape[0]\n",
        "\n",
        "    # Contar desligamentos voluntários\n",
        "    for tipo in desligamentos_voluntarios:\n",
        "        if tipo in planilha_janeiro['TIPO DE DESLIGAMENTO'].values:\n",
        "            contagem_voluntarios += planilha_janeiro[planilha_janeiro['TIPO DE DESLIGAMENTO'] == tipo].shape[0]\n",
        "\n",
        "    # Exibir os resultados\n",
        "    print(f\"Demissões involuntárias em ABRIL na aba '{aba_janeiro}': {contagem_involuntarios}\")\n",
        "    print(f\"Demissões voluntárias em ABRIL na aba '{aba_janeiro}': {contagem_voluntarios}\")\n",
        "\n",
        "except FileNotFoundError:\n",
        "    print(f\"Arquivo não encontrado: {caminho_planilha_janeiro}\")\n",
        "except KeyError as e:\n",
        "    print(f\"Erro: {e}\")\n"
      ],
      "metadata": {
        "colab": {
          "base_uri": "https://localhost:8080/"
        },
        "id": "Ww-L5BIVLPrH",
        "outputId": "a5b6e20e-bf28-483d-a289-2c36f1d2c7b7"
      },
      "execution_count": null,
      "outputs": [
        {
          "output_type": "stream",
          "name": "stdout",
          "text": [
            "Demissões involuntárias em ABRIL na aba 'DESLIGUES ABRIL': 4\n",
            "Demissões voluntárias em ABRIL na aba 'DESLIGUES ABRIL': 106\n"
          ]
        }
      ]
    },
    {
      "cell_type": "markdown",
      "source": [
        "#MAIO\n"
      ],
      "metadata": {
        "id": "1PCyvTt9LQvX"
      }
    },
    {
      "cell_type": "code",
      "source": [
        "import pandas as pd\n",
        "\n",
        "# Definir o caminho para a planilha de janeiro (ajuste conforme necessário)\n",
        "caminho_planilha_janeiro = '/content/DESLIGAMENTOS 05.24.xlsx'\n",
        "aba_janeiro = 'DESLIGUES MAIO'  # Nome da aba específica que contém os dados\n",
        "\n",
        "try:\n",
        "    # Carregar a planilha de demissões de janeiro e a aba específica\n",
        "    planilha_janeiro = pd.read_excel(caminho_planilha_janeiro, sheet_name=aba_janeiro)\n",
        "\n",
        "    # Verificar se a coluna 'TIPO DE DESLIGAMENTO' existe na planilha\n",
        "    if 'TIPO DE DESLIGAMENTO' not in planilha_janeiro.columns:\n",
        "        raise KeyError(\"'TIPO DE DESLIGAMENTO' não encontrado na aba de janeiro\")\n",
        "\n",
        "    # Tipos de desligamento involuntários e voluntários\n",
        "    desligamentos_involuntarios = [\n",
        "        'TERMINO DE CONTRATO POR PRAZO DETERMINADO - 2ª EXP.',\n",
        "        'DISPENSA SEM JUSTA CAUSA',\n",
        "        'TERMINO DE CONTRATO POR PRAZO DETERMINADO - 1ª EXP.',\n",
        "        'TERMINO DE CONTRATO ANTECIPADO - EMPREGADOR',\n",
        "        'DISPENSA POR JUSTA CAUSA'\n",
        "    ]\n",
        "\n",
        "    desligamentos_voluntarios = [\n",
        "        'PEDIDO DE DESLIGAMENTO - SEM CUMPRIMENTO DE AVISO',\n",
        "        'TERMINO DE CONTRATO ANTECIPADO - A PEDIDO DO EMPREGADO',\n",
        "        'PEDIDO DE DESLIGAMENTO - COM CUMPRIMENTO DE AVISO'\n",
        "    ]\n",
        "\n",
        "    # Inicializar contadores\n",
        "    contagem_involuntarios = 0\n",
        "    contagem_voluntarios = 0\n",
        "\n",
        "    # Contar desligamentos involuntários\n",
        "    for tipo in desligamentos_involuntarios:\n",
        "        if tipo in planilha_janeiro['TIPO DE DESLIGAMENTO'].values:\n",
        "            contagem_involuntarios += planilha_janeiro[planilha_janeiro['TIPO DE DESLIGAMENTO'] == tipo].shape[0]\n",
        "\n",
        "    # Contar desligamentos voluntários\n",
        "    for tipo in desligamentos_voluntarios:\n",
        "        if tipo in planilha_janeiro['TIPO DE DESLIGAMENTO'].values:\n",
        "            contagem_voluntarios += planilha_janeiro[planilha_janeiro['TIPO DE DESLIGAMENTO'] == tipo].shape[0]\n",
        "\n",
        "    # Exibir os resultados\n",
        "    print(f\"Demissões involuntárias em MAIO na aba '{aba_janeiro}': {contagem_involuntarios}\")\n",
        "    print(f\"Demissões voluntárias em MAIO na aba '{aba_janeiro}': {contagem_voluntarios}\")\n",
        "\n",
        "except FileNotFoundError:\n",
        "    print(f\"Arquivo não encontrado: {caminho_planilha_janeiro}\")\n",
        "except KeyError as e:\n",
        "    print(f\"Erro: {e}\")\n"
      ],
      "metadata": {
        "colab": {
          "base_uri": "https://localhost:8080/"
        },
        "id": "HwiHOCSPLSdP",
        "outputId": "7e6406df-147a-404c-94f8-92897fe5bf56"
      },
      "execution_count": null,
      "outputs": [
        {
          "output_type": "stream",
          "name": "stdout",
          "text": [
            "Demissões involuntárias em MAIO na aba 'DESLIGUES MAIO': 67\n",
            "Demissões voluntárias em MAIO na aba 'DESLIGUES MAIO': 43\n"
          ]
        }
      ]
    },
    {
      "cell_type": "markdown",
      "source": [
        "#JUNHO"
      ],
      "metadata": {
        "id": "7C79DPzeLTof"
      }
    },
    {
      "cell_type": "code",
      "source": [
        "import pandas as pd\n",
        "\n",
        "# Definir o caminho para a planilha de janeiro (ajuste conforme necessário)\n",
        "caminho_planilha_janeiro = '/content/DESLIGAMENTOS 06.24.xlsx'\n",
        "aba_janeiro = 'DESLIGUES JUNHO'  # Nome da aba específica que contém os dados\n",
        "\n",
        "try:\n",
        "    # Carregar a planilha de demissões de janeiro e a aba específica\n",
        "    planilha_janeiro = pd.read_excel(caminho_planilha_janeiro, sheet_name=aba_janeiro)\n",
        "\n",
        "    # Verificar se a coluna 'TIPO DE DESLIGAMENTO' existe na planilha\n",
        "    if 'TIPO DE DESLIGAMENTO' not in planilha_janeiro.columns:\n",
        "        raise KeyError(\"'TIPO DE DESLIGAMENTO' não encontrado na aba de janeiro\")\n",
        "\n",
        "    # Tipos de desligamento involuntários e voluntários\n",
        "    desligamentos_involuntarios = [\n",
        "        'TERMINO DE CONTRATO POR PRAZO DETERMINADO - 2ª EXP.',\n",
        "        'DISPENSA SEM JUSTA CAUSA',\n",
        "        'TERMINO DE CONTRATO POR PRAZO DETERMINADO - 1ª EXP.',\n",
        "        'TERMINO DE CONTRATO ANTECIPADO - EMPREGADOR',\n",
        "        'DISPENSA POR JUSTA CAUSA'\n",
        "    ]\n",
        "\n",
        "    desligamentos_voluntarios = [\n",
        "        'PEDIDO DE DESLIGAMENTO - SEM CUMPRIMENTO DE AVISO',\n",
        "        'TERMINO DE CONTRATO ANTECIPADO - A PEDIDO DO EMPREGADO',\n",
        "        'PEDIDO DE DESLIGAMENTO - COM CUMPRIMENTO DE AVISO'\n",
        "    ]\n",
        "\n",
        "    # Inicializar contadores\n",
        "    contagem_involuntarios = 0\n",
        "    contagem_voluntarios = 0\n",
        "\n",
        "    # Contar desligamentos involuntários\n",
        "    for tipo in desligamentos_involuntarios:\n",
        "        if tipo in planilha_janeiro['TIPO DE DESLIGAMENTO'].values:\n",
        "            contagem_involuntarios += planilha_janeiro[planilha_janeiro['TIPO DE DESLIGAMENTO'] == tipo].shape[0]\n",
        "\n",
        "    # Contar desligamentos voluntários\n",
        "    for tipo in desligamentos_voluntarios:\n",
        "        if tipo in planilha_janeiro['TIPO DE DESLIGAMENTO'].values:\n",
        "            contagem_voluntarios += planilha_janeiro[planilha_janeiro['TIPO DE DESLIGAMENTO'] == tipo].shape[0]\n",
        "\n",
        "    # Exibir os resultados\n",
        "    print(f\"Demissões involuntárias em JUNHO na aba '{aba_janeiro}': {contagem_involuntarios}\")\n",
        "    print(f\"Demissões voluntárias em JUNHO na aba '{aba_janeiro}': {contagem_voluntarios}\")\n",
        "\n",
        "except FileNotFoundError:\n",
        "    print(f\"Arquivo não encontrado: {caminho_planilha_janeiro}\")\n",
        "except KeyError as e:\n",
        "    print(f\"Erro: {e}\")\n"
      ],
      "metadata": {
        "colab": {
          "base_uri": "https://localhost:8080/"
        },
        "id": "Zrbl_N5tLU1x",
        "outputId": "9dd228c0-bfd9-40c6-bbce-844c31814015"
      },
      "execution_count": null,
      "outputs": [
        {
          "output_type": "stream",
          "name": "stdout",
          "text": [
            "Demissões involuntárias em JUNHO na aba 'DESLIGUES JUNHO': 65\n",
            "Demissões voluntárias em JUNHO na aba 'DESLIGUES JUNHO': 42\n"
          ]
        },
        {
          "output_type": "stream",
          "name": "stderr",
          "text": [
            "/usr/local/lib/python3.10/dist-packages/openpyxl/worksheet/_reader.py:329: UserWarning: Data Validation extension is not supported and will be removed\n",
            "  warn(msg)\n"
          ]
        }
      ]
    }
  ]
}